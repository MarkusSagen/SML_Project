{
 "cells": [
  {
   "cell_type": "code",
   "execution_count": 108,
   "metadata": {},
   "outputs": [
    {
     "name": "stdout",
     "output_type": "stream",
     "text": [
      "\n",
      "Scores from the crossvalidation is: \n",
      " [0.72368421 0.78947368 0.76       0.84       0.74666667 0.84\n",
      " 0.77333333 0.88       0.7027027  0.77027027]\n",
      "\n",
      "\n",
      "Median score from the crossvalidation is: \n",
      " 0.7826130867709815\n",
      "\n",
      "\n",
      "\n",
      "Current accuracy is from predicted values: \n",
      " 0.7933333333333333\n",
      "\n",
      "\n",
      "Precdicted classification from test labels: \n",
      "\n",
      " [0 0 1 1 0 0 1 1 1 0 1 0 1 1 1 0 1 0 0 1 0 1 0 1 1 1 1 1 0 0 1 0 1 1 1 0 1\n",
      " 1 0 1 1 0 0 1 1 1 1 1 1 1 1 1 1 1 1 1 0 1 0 1 1 1 1 1 1 0 1 1 1 1 1 0 0 1\n",
      " 0 1 1 1 0 1 0 1 1 0 1 0 1 1 0 1 1 1 1 1 1 0 1 0 1 1 1 1 1 1 1 0 1 1 1 1 0\n",
      " 1 1 1 0 0 1 1 1 1 0 0 1 0 1 0 1 0 0 1 0 0 1 0 1 1 1 1 1 1 0 1 1 0 1 1 0 1\n",
      " 0 0]\n",
      "\n",
      "\n",
      "\n",
      " =================== Now the real calssification =====================\n",
      "\n",
      " [0 0 1 1 0 0 1 1 1 0 1 0 1 1 1 0 1 0 0 1 0 1 0 1 1 1 1 1 0 0 1 0 1 1 1 0 1\n",
      " 1 0 1 1 0 0 1 1 1 1 1 1 1 1 1 1 1 1 1 0 1 0 1 1 1 1 1 1 0 1 1 1 1 1 0 0 1\n",
      " 0 1 1 1 0 1 0 1 1 0 1 0 1 1 0 1 1 1 1 1 1 0 1 0 1 1 1 1 1 1 1 0 1 1 1 1 0\n",
      " 1 1 1 0 0 1 1 1 1 0 0 1 0 1 0 1 0 0 1 0 0 1 0 1 1 1 1 1 1 0 1 1 0 1 1 0 1\n",
      " 0 0]\n",
      "\n",
      "\n",
      "\n",
      " =================== String to be sent in =====================\n",
      "\n",
      "\n",
      "00010001101001011111101100101010011111010101111110011101100011001100101111010110110001111010011011111111010111110011111101101110101111111111111001111011001111101100110110111101111000111110100010100111\n"
     ]
    },
    {
     "name": "stderr",
     "output_type": "stream",
     "text": [
      "/home/linuxbrew/.linuxbrew/opt/python/lib/python3.7/site-packages/sklearn/preprocessing/data.py:323: DataConversionWarning: Data with input dtype int64, float64 were all converted to float64 by MinMaxScaler.\n",
      "  return self.partial_fit(X, y)\n",
      "/home/linuxbrew/.linuxbrew/opt/python/lib/python3.7/site-packages/sklearn/preprocessing/data.py:323: DataConversionWarning: Data with input dtype int64, float64 were all converted to float64 by MinMaxScaler.\n",
      "  return self.partial_fit(X, y)\n"
     ]
    }
   ],
   "source": [
    "import numpy as np\n",
    "import pandas as pd\n",
    "from sklearn import *\n",
    "\n",
    "# Diffrent classifiers\n",
    "from sklearn.linear_model import LinearRegression  \n",
    "from sklearn.naive_bayes import GaussianNB\n",
    "from sklearn.preprocessing import StandardScaler\n",
    "from sklearn.datasets import make_moons, make_circles, make_classification\n",
    "from sklearn.neural_network import MLPClassifier\n",
    "from sklearn.neighbors import KNeighborsClassifier\n",
    "from sklearn.svm import SVC\n",
    "from sklearn.gaussian_process import GaussianProcessClassifier\n",
    "from sklearn.gaussian_process.kernels import RBF\n",
    "from sklearn.tree import DecisionTreeClassifier\n",
    "from sklearn.ensemble import RandomForestClassifier, AdaBoostClassifier\n",
    "from sklearn.naive_bayes import GaussianNB\n",
    "from sklearn.discriminant_analysis import QuadraticDiscriminantAnalysis\n",
    "\n",
    "# Process data and handle classsification size and accuracy\n",
    "from sklearn import preprocessing\n",
    "#from sklearn.preprocessing import MinMaxScaler\n",
    "from sklearn.preprocessing import StandardScaler\n",
    "from sklearn.preprocessing import LabelEncoder\n",
    "from sklearn.model_selection import train_test_split, cross_val_score\n",
    "from sklearn.metrics import accuracy_score, confusion_matrix, classification_report\n",
    "from sklearn.model_selection import StratifiedKFold\n",
    "import matplotlib.pyplot as plt\n",
    "\n",
    "\n",
    "\n",
    "\"\"\"\"\n",
    "Categories:\n",
    "-----------\n",
    "danceability\n",
    "energy\n",
    "key\n",
    "loudness\n",
    "mode\n",
    "speechiness\n",
    "acousticness\n",
    "label\n",
    "\"\"\"\n",
    "\n",
    "\n",
    "\n",
    "songs = pd.read_csv('training_data.csv')\n",
    "songsToClassify = pd.read_csv('songs_to_classify.csv')\n",
    "\n",
    "# Set the \"Label to make predictions agains\"\n",
    "# We now make \"x\" (Song dataset with out labels) and \"y\" (labels - like/dislike)\n",
    "label = songs.label                         # y\n",
    "features = songs.drop(columns='label')          # X\n",
    "y = label\n",
    "X = features\n",
    "\n",
    "# Rescale the data features with min-max for improved accuracy \n",
    "# KNN classifier with \"Min-Max\" =  0.78\n",
    "sc = MinMaxScaler()\n",
    "X = sc.fit_transform(X)\n",
    "songsToClassify = sc.fit_transform(songsToClassify)\n",
    "\n",
    "# KNN classifier with \"normalize\" =  0.67\n",
    "# X = preprocessing.normalize(X)\n",
    "# songsToClassify = preprocessing.normalize(songsToClassify)\n",
    "\n",
    "# KNN classifier, No normalizing = 0.57\n",
    "\n",
    "\n",
    "\n",
    "\n",
    "\n",
    "\n",
    "# Test diffrent methods:\n",
    "\"\"\"\n",
    "1) Logistic Regression: Logistic Regression, Naive Bayes Classifier\n",
    "2) Discriminant analysis: LDA, QDA\n",
    "3) Decision Trees <- Especially Bagging, but also reandomForrest\n",
    "4) Boosted Trees  <- Boosting seemed to do very well\n",
    "5) Random Forest  <- Seemed good\n",
    "6) K-Nearest Neighbor\n",
    "-------------------\n",
    "7) Neural Networks\n",
    "8) Support Vector Machines (SVM) <- Good, but not learned yet\n",
    "\n",
    "\"\"\"\n",
    "#\n",
    "#\n",
    "#\n",
    "\n",
    "\"\"\"\n",
    "\n",
    "\"Linear regression\"\n",
    "LinearRegression()\n",
    "\n",
    "\"QDA\"\n",
    "QuadraticDiscriminantAnalysis() \n",
    "\n",
    "\"Naive Bayes\"\n",
    "GaussianNB()\n",
    "\n",
    "\"Gaussian Process\"\n",
    "GaussianProcessClassifier(1.0 * RBF(1.0))\n",
    "\n",
    "\"AdaBoost\"\n",
    "AdaBoostClassifier()\n",
    "\n",
    "\"Decision Tree\"\n",
    "DecisionTreeClassifier(max_depth=5)\n",
    "\n",
    "\"Random Forest\", \n",
    "RandomForestClassifier(max_depth=5, n_estimators=10, max_features=1) \n",
    "\n",
    "\"Nearest Neighbors\",\n",
    "KNeighborsClassifier(n_neighbors=5) \n",
    "\n",
    "\"Linear SVM\",\n",
    "SVC(kernel=\"linear\", C=0.025) \n",
    "\n",
    "\"RBF SVM\", \n",
    "SVC(gamma=2, C=1)\n",
    "\n",
    "\"Neural Net\"\n",
    "MLPClassifier(alpha=1)\n",
    "\n",
    "\"\"\"\n",
    "\n",
    "\n",
    "\n",
    "# Initialize classifier\n",
    "\"\"\"---------------------- Uncomment to test them: ----------------------\"\"\"\n",
    "#clf = GaussianNB()\n",
    "#clf = LinearRegression()\n",
    "#QuadraticDiscriminantAnalysis() \n",
    "#GaussianNB()\n",
    "#GaussianProcessClassifier(1.0 * RBF(1.0))\n",
    "#AdaBoostClassifier()\n",
    "#DecisionTreeClassifier(max_depth=5)\n",
    "#RandomForestClassifier(max_depth=5, n_estimators=10, max_features=1)\n",
    "#SVC(kernel=\"linear\", C=0.025) \n",
    "#SVC(gamma=2, C=1)\n",
    "#MLPClassifier(alpha=1)\n",
    "\n",
    "clf = KNeighborsClassifier(n_neighbors=5)\n",
    "\n",
    "\n",
    "\n",
    "\n",
    "# Now lets split the data into test and training\n",
    "# Needs to be in 20/80, most usual, some say 30/70... even 10/90\n",
    "\n",
    "\n",
    "\n",
    "# Use cross_val_score function\n",
    "# We are passing the entirety of X and y, not X_train or y_train, it takes care of splitting the dat\n",
    "# cv=10 for 10 folds\n",
    "# scoring='accuracy' for evaluation metric - althought they are many\n",
    "\n",
    "\n",
    "# We can have other \"scores\", for example least mean squared\n",
    "scores = cross_val_score(clf, X, y, cv=10, scoring='accuracy')\n",
    "\n",
    "print(\"\\nScores from the crossvalidation is: \\n\", scores)\n",
    "print(\"\\n\\nMedian score from the crossvalidation is: \\n\", scores.mean())\n",
    "\n",
    "\n",
    "X_train, X_test, y_train, y_test = train_test_split(X, y, test_size=0.2, random_state=2)\n",
    "\n",
    "#print(\"train song \", len(X_train))\n",
    "#print(\"train label \", len(y_train))\n",
    "#print(\"test song \", len(X_test))\n",
    "#print(\"test label \", len(y_test))\n",
    "\n",
    "\n",
    "\n",
    "# Train our classifier\n",
    "model = clf.fit(X_train, y_train)\n",
    "\n",
    "# Make predictions on test\n",
    "prediction = clf.predict(X_test)\n",
    "\n",
    " \n",
    "\n",
    "# See test score\n",
    "#print(\"\\nCurrent accuracy is: \", accuracy_score(y_test, prediction))\n",
    "#print(\"\\Confusion matrix: \\n\",confusion_matrix(y_test, prediction))\n",
    "#print(\"\\n\\nClassification raport \\n\", classification_report(y_test, prediction))\n",
    "\n",
    "\n",
    "\n",
    "#Predict the response for test dataset\n",
    "clf.fit(X_train, y_train)\n",
    "y_pred = clf.predict(X_test)\n",
    "\n",
    "\n",
    "# Prediction in comparison of the training and test data\n",
    "print(\"\\n\\n\\nCurrent accuracy is from predicted values: \\n\", accuracy_score(y_pred, y_test))\n",
    "print(\"\\n\\nPrecdicted classification from test labels: \\n\\n\", y_pred)\n",
    "\n",
    "\n",
    "\n",
    "print(\"\\n\\n\\n =================== Now the real calssification =====================\\n\\n\", y_pred)\n",
    "# THIS IT THE PREDICTION ON THE ACTUAL SONGS TO BE CLASSIFIED!\n",
    "y_songsToClassifyPred = clf.predict(songsToClassify)\n",
    "\n",
    "# print(y_songsToClassifyPred)\n",
    "formatedPrediction = [\"\".join(item) for item in y_songsToClassifyPred.astype(str)]\n",
    "formatedPrediction = ''.join(formatedPrediction)\n",
    "\n",
    "# HERE IS THE PREDICTED STRUNG TO SEND IN!\n",
    "print(\"\\n\\n\\n =================== String to be sent in =====================\\n\\n\")\n",
    "print(formatedPrediction)\n",
    "\n",
    "\n",
    "\n",
    "\n",
    "\n",
    "\n",
    "\n"
   ]
  },
  {
   "cell_type": "markdown",
   "metadata": {},
   "source": [
    "# Testing to print only prediction of correct songs"
   ]
  },
  {
   "cell_type": "code",
   "execution_count": 73,
   "metadata": {},
   "outputs": [
    {
     "name": "stdout",
     "output_type": "stream",
     "text": [
      "[0 0 0 1 0 0 0 1 1 0 1 0 0 1 0 1 1 1 1 1 1 0 1 1 0 0 1 0 1 0 1 0 0 1 1 1 1\n",
      " 1 0 1 0 1 0 1 1 1 1 1 1 0 0 1 1 1 0 1 1 0 0 0 1 1 0 0 1 1 0 0 1 0 1 1 1 1\n",
      " 0 1 0 1 1 0 1 1 0 0 0 1 1 1 1 0 1 0 0 1 1 0 1 1 1 1 1 1 1 1 0 1 0 1 1 1 1\n",
      " 1 0 0 1 1 1 1 1 1 0 1 1 0 1 1 1 0 1 0 1 1 1 1 1 1 1 1 1 1 1 1 1 0 0 1 1 1\n",
      " 1 0 1 1 0 0 1 1 1 1 1 0 1 1 0 0 1 1 0 1 1 0 1 1 1 1 0 1 1 1 1 0 0 0 1 1 1\n",
      " 1 1 0 1 0 0 0 1 0 1 0 0 1 1 1]\n"
     ]
    },
    {
     "data": {
      "text/plain": [
       "'00010001101001011111101100101010011111010101111110011101100011001100101111010110110001111010011011111111010111110011111101101110101111111111111001111011001111101100110110111101111000111110100010100111'"
      ]
     },
     "execution_count": 73,
     "metadata": {},
     "output_type": "execute_result"
    }
   ],
   "source": [
    "#print(y_songsToClassifyPred)\n",
    "formatedPrediction = [\"\".join(item) for item in y_songsToClassifyPred.astype(str)]\n",
    "formatedPrediction = ''.join(formatedPrediction)\n",
    "\n",
    "formatedPrediction\n",
    "\n",
    "#print(y_songsToClassifyPred)"
   ]
  },
  {
   "cell_type": "markdown",
   "metadata": {},
   "source": [
    "# ----------------------------------------------------"
   ]
  },
  {
   "cell_type": "markdown",
   "metadata": {},
   "source": [
    "# Plot Correlation matrix"
   ]
  },
  {
   "cell_type": "code",
   "execution_count": 106,
   "metadata": {},
   "outputs": [],
   "source": [
    "# Test various things - Among other correcation matrix for whole data set and for only positive\n",
    "import matplotlib.pyplot as plt\n",
    "import seaborn as sns\n",
    "%matplotlib inline\n",
    "\n",
    "onlyPositive = songs[songs['label'] == 1]\n",
    "onlyNegative = songs[songs['label'] == 0]\n",
    "\n",
    "allCorr = songs.corr()\n",
    "posCorr = onlyPositive.corr()\n",
    "negCorr = onlyNegative.corr()\n",
    "\n"
   ]
  },
  {
   "cell_type": "markdown",
   "metadata": {},
   "source": [
    "# All labels correlation matrix"
   ]
  },
  {
   "cell_type": "code",
   "execution_count": 107,
   "metadata": {},
   "outputs": [
    {
     "data": {
      "text/plain": [
       "<matplotlib.axes._subplots.AxesSubplot at 0x7f21464026d8>"
      ]
     },
     "execution_count": 107,
     "metadata": {},
     "output_type": "execute_result"
    },
    {
     "data": {
      "image/png": "[encoded data removed]",
      "text/plain": [
       "<Figure size 432x288 with 2 Axes>"
      ]
     },
     "metadata": {
      "needs_background": "light"
     },
     "output_type": "display_data"
    }
   ],
   "source": [
    "# plot the heatmap\n",
    "sns.heatmap(allCorr, \n",
    "        xticklabels=corr.columns,\n",
    "        yticklabels=corr.columns)"
   ]
  },
  {
   "cell_type": "markdown",
   "metadata": {},
   "source": [
    "# Positive labels correlation matrix"
   ]
  },
  {
   "cell_type": "code",
   "execution_count": 104,
   "metadata": {},
   "outputs": [
    {
     "data": {
      "text/plain": [
       "<matplotlib.axes._subplots.AxesSubplot at 0x7f2146415c50>"
      ]
     },
     "execution_count": 104,
     "metadata": {},
     "output_type": "execute_result"
    },
    {
     "data": {
      "image/png": "[encoded data removed]",
      "text/plain": [
       "<Figure size 432x288 with 2 Axes>"
      ]
     },
     "metadata": {
      "needs_background": "light"
     },
     "output_type": "display_data"
    }
   ],
   "source": [
    "# plot the positive\n",
    "sns.heatmap(posCorr, \n",
    "        xticklabels=corr.columns,\n",
    "        yticklabels=corr.columns)"
   ]
  },
  {
   "cell_type": "markdown",
   "metadata": {},
   "source": [
    "# Negative labels correlation matrix"
   ]
  },
  {
   "cell_type": "code",
   "execution_count": 105,
   "metadata": {},
   "outputs": [
    {
     "data": {
      "text/plain": [
       "<matplotlib.axes._subplots.AxesSubplot at 0x7f21469579e8>"
      ]
     },
     "execution_count": 105,
     "metadata": {},
     "output_type": "execute_result"
    },
    {
     "data": {
      "image/png": "[encoded data removed]",
      "text/plain": [
       "<Figure size 432x288 with 2 Axes>"
      ]
     },
     "metadata": {
      "needs_background": "light"
     },
     "output_type": "display_data"
    }
   ],
   "source": [
    "# plot the negative\n",
    "sns.heatmap(negCorr, \n",
    "        xticklabels=corr.columns,\n",
    "        yticklabels=corr.columns)"
   ]
  },
  {
   "cell_type": "code",
   "execution_count": null,
   "metadata": {},
   "outputs": [],
   "source": []
  }
 ],
 "metadata": {
  "kernelspec": {
   "display_name": "Python 3",
   "language": "python",
   "name": "python3"
  },
  "language_info": {
   "codemirror_mode": {
    "name": "ipython",
    "version": 3
   },
   "file_extension": ".py",
   "mimetype": "text/x-python",
   "name": "python",
   "nbconvert_exporter": "python",
   "pygments_lexer": "ipython3",
   "version": "3.7.2"
  }
 },
 "nbformat": 4,
 "nbformat_minor": 2
}
