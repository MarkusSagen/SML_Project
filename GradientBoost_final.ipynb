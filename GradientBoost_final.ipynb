{
 "cells": [
  {
   "cell_type": "code",
   "execution_count": 5,
   "metadata": {},
   "outputs": [],
   "source": [
    "%matplotlib inline\n",
    "import numpy as np\n",
    "import pandas as pd\n",
    "from sklearn import *\n",
    "from sklearn.ensemble import RandomForestClassifier, AdaBoostClassifier, GradientBoostingClassifier\n",
    "from sklearn.preprocessing import MinMaxScaler\n",
    "from sklearn.metrics import accuracy_score, confusion_matrix, classification_report, roc_curve, auc\n",
    "import matplotlib.pyplot as plt\n",
    "from sklearn.model_selection import cross_val_score\n"
   ]
  },
  {
   "cell_type": "code",
   "execution_count": null,
   "metadata": {},
   "outputs": [
    {
     "name": "stderr",
     "output_type": "stream",
     "text": [
      "C:\\ProgramData\\Anaconda3\\lib\\site-packages\\sklearn\\preprocessing\\data.py:323: DataConversionWarning: Data with input dtype int64, float64 were all converted to float64 by MinMaxScaler.\n",
      "  return self.partial_fit(X, y)\n",
      "C:\\ProgramData\\Anaconda3\\lib\\site-packages\\sklearn\\preprocessing\\data.py:323: DataConversionWarning: Data with input dtype int64, float64 were all converted to float64 by MinMaxScaler.\n",
      "  return self.partial_fit(X, y)\n"
     ]
    },
    {
     "name": "stdout",
     "output_type": "stream",
     "text": [
      "CV-Score: 0.8254087245139876 Subsample size: 0.5\n",
      "CV-Score: 0.8265988620199145 Subsample size: 0.6000000000000001\n",
      "CV-Score: 0.8372854433380749 Subsample size: 0.7000000000000001\n",
      "CV-Score: 0.8306178283546706 Subsample size: 0.8\n",
      "CV-Score: 0.8346533902323376 Subsample size: 0.9\n",
      "CV-Score: 0.8306002844950214 Subsample size: 1.0\n",
      "============================================\n",
      "CV-Score: 0.827914651493599 Subsample size: 0.5\n",
      "CV-Score: 0.8306344238975818 Subsample size: 0.6000000000000001\n",
      "CV-Score: 0.8333551446183026 Subsample size: 0.7000000000000001\n",
      "CV-Score: 0.8347245139876719 Subsample size: 0.8\n",
      "CV-Score: 0.8292664770033191 Subsample size: 0.9\n",
      "CV-Score: 0.8279155998103367 Subsample size: 1.0\n",
      "============================================\n",
      "CV-Score: 1.0 Subsample size: 0.5\n",
      "CV-Score: 1.0 Subsample size: 0.6000000000000001\n",
      "CV-Score: 1.0 Subsample size: 0.7000000000000001\n",
      "CV-Score: 1.0 Subsample size: 0.8\n",
      "CV-Score: 1.0 Subsample size: 0.9\n"
     ]
    }
   ],
   "source": [
    "\n",
    "\n",
    "songs = pd.read_csv('training_data.csv')\n",
    "songsToClassify = pd.read_csv('songs_to_classify.csv')\n",
    "\n",
    "# Set the \"Label to make predictions agains\"\n",
    "# We now make \"x\" (Song dataset with out labels) and \"y\" (labels - like/dislike)\n",
    "label = songs.label                         # y\n",
    "features = songs.drop(columns=['label','tempo','key','mode'])          # X\n",
    "y = label\n",
    "X = features\n",
    "\n",
    "# Rescale the data features with min-max for improved accuracy \n",
    "# KNN classifier with \"Min-Max\" =  0.78\n",
    "sc = MinMaxScaler()\n",
    "X_minmax = sc.fit_transform(X)\n",
    "songsToClassify_minmax = sc.fit_transform(songsToClassify)\n",
    "\n",
    "X_Zscale = pd.read_csv('training_data_scaled.csv')\n",
    "X_Zscale5 = pd.read_csv('training_data_scaled_slimmed_top_5.csv')\n",
    "X_Zscale10 = pd.read_csv('training_data_scaled_slimmed_top_10.csv')\n",
    "\n",
    "training_sets = [X, X_minmax, X_Zscale, X_Zscale5, X_Zscale10]\n",
    "\n",
    "for sets in training_sets:\n",
    "    for s in [s*0.1 for s in range(5,11)]:\n",
    "        #Cross validation\n",
    "        clf = GradientBoostingClassifier(subsample=s)\n",
    "        cvscore = np.mean(cross_val_score(clf,sets,y, cv=10))\n",
    "        print(\"CV-Score:\",cvscore,\"Subsample size:\",s)\n",
    "    print(\"============================================\")"
   ]
  },
  {
   "cell_type": "code",
   "execution_count": null,
   "metadata": {},
   "outputs": [],
   "source": []
  },
  {
   "cell_type": "code",
   "execution_count": null,
   "metadata": {},
   "outputs": [],
   "source": []
  }
 ],
 "metadata": {
  "kernelspec": {
   "display_name": "Python 3",
   "language": "python",
   "name": "python3"
  },
  "language_info": {
   "codemirror_mode": {
    "name": "ipython",
    "version": 3
   },
   "file_extension": ".py",
   "mimetype": "text/x-python",
   "name": "python",
   "nbconvert_exporter": "python",
   "pygments_lexer": "ipython3",
   "version": "3.7.1"
  }
 },
 "nbformat": 4,
 "nbformat_minor": 2
}
